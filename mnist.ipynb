{
 "cells": [
  {
   "cell_type": "code",
   "execution_count": 1,
   "metadata": {},
   "outputs": [],
   "source": [
    "from __future__ import print_function\n",
    "import os\n",
    "import numpy\n",
    "import torch\n",
    "import torch.nn as nn\n",
    "import torch.nn.functional as F\n",
    "import torch.optim as optim\n",
    "from torchvision.datasets import ImageFolder\n",
    "import torchvision\n",
    "from PIL import Image\n",
    "import numpy as np\n",
    "from torchvision import datasets, transforms\n",
    "from torch.autograd import Variable\n",
    "from time import time\n",
    "from torchsummary import summary\n"
   ]
  },
  {
   "cell_type": "code",
   "execution_count": 2,
   "metadata": {},
   "outputs": [
    {
     "data": {
      "text/plain": [
       "{'train': 60000, 'test': 10000}"
      ]
     },
     "execution_count": 2,
     "metadata": {},
     "output_type": "execute_result"
    }
   ],
   "source": [
    "use_gpu = torch.cuda.is_available()\n",
    "device = torch.cuda.set_device(2)\n",
    "    \n",
    "os.makedirs(\"./mnist\",exist_ok=True)\n",
    "\n",
    "batch_size = 16\n",
    "\n",
    "train_mnist = datasets.MNIST(root=\"./mnist\", train=True, download=True,\n",
    "                   transform=transforms.Compose([\n",
    "                       transforms.ToTensor(),\n",
    "                       transforms.Normalize((0.1307,), (0.3081,))\n",
    "                   ]))\n",
    "test_mnist = datasets.MNIST(root=\"./mnist\", train=False, transform=transforms.Compose([\n",
    "                       transforms.ToTensor(),\n",
    "                       transforms.Normalize((0.1307,), (0.3081,))\n",
    "                   ]))\n",
    "\n",
    "train_loader = torch.utils.data.DataLoader(train_mnist,\n",
    "    batch_size=batch_size, shuffle=True, num_workers=4, pin_memory=True)\n",
    "test_loader = torch.utils.data.DataLoader(test_mnist,\n",
    "    batch_size=batch_size, shuffle=True, num_workers=4, pin_memory=True)\n",
    "\n",
    "dataloders = {'train':train_loader,'test':test_loader}\n",
    "dataset_sizes = {'train':len(train_mnist),'test':len(test_mnist)}\n",
    "dataset_sizes"
   ]
  },
  {
   "cell_type": "code",
   "execution_count": 3,
   "metadata": {},
   "outputs": [],
   "source": [
    "class Net(nn.Module):\n",
    "    def __init__(self):\n",
    "        super(Net, self).__init__()\n",
    "        self.conv1 = nn.Conv2d(1, 32, 3, 1)\n",
    "        self.relu1 = nn.ReLU()\n",
    "        self.maxpool1 = nn.MaxPool2d(2)\n",
    "        self.conv2 = nn.Conv2d(32, 64, 3, 1)\n",
    "        self.relu2 = nn.ReLU()\n",
    "        self.maxpool2 = nn.MaxPool2d(2)\n",
    "        self.fc1 = nn.Linear(64*5*5, 256)\n",
    "        self.relu3 = nn.ReLU()\n",
    "        self.fc2 = nn.Linear(256, 10)\n",
    "    def forward(self, x):\n",
    "        x = self.conv1(x)\n",
    "        x = self.relu1(x)\n",
    "        x = self.maxpool1(x)\n",
    "        x = self.conv2(x)\n",
    "        x = self.relu2(x) \n",
    "        x = self.maxpool2(x)\n",
    "        x = x.view(-1,64*5*5)\n",
    "        x = self.fc1(x)\n",
    "        x = self.relu3(x)\n",
    "        x = self.fc2(x)\n",
    "        return x\n",
    "model = Net().cuda()\n",
    "optimizer = optim.Adamax(model.parameters(), lr=0.001)\n",
    "criterion = nn.CrossEntropyLoss()"
   ]
  },
  {
   "cell_type": "code",
   "execution_count": 4,
   "metadata": {},
   "outputs": [],
   "source": [
    "from tqdm import tqdm\n",
    "def train_model(model, criterion, optimizer, num_epochs=10):\n",
    "    since = time()\n",
    "    best_model_wts = model.state_dict()\n",
    "    best_acc = 0.0\n",
    "    for epoch in range(num_epochs):\n",
    "        print('Epoch {}/{}'.format(epoch, num_epochs - 1))\n",
    "        print('-' * 10)\n",
    "        for phase in ['train', 'test']:\n",
    "            if phase == 'train':\n",
    "                model.train(True)  # Set model to training mode\n",
    "            else:\n",
    "                model.train(False)  # Set model to evaluate mode\n",
    "            \n",
    "            running_loss = 0.0\n",
    "            running_corrects = 0.0\n",
    "            \n",
    "            for data in tqdm(dataloders[phase]):\n",
    "                inputs, labels = data\n",
    "                if use_gpu:\n",
    "                    inputs = Variable(inputs.cuda())\n",
    "                    print(inputs.shape)\n",
    "                    labels = Variable(labels.cuda())\n",
    "                else:\n",
    "                    inputs, labels = Variable(inputs), Variable(labels)\n",
    "                optimizer.zero_grad()\n",
    "                outputs = model(inputs)\n",
    "\n",
    "                _, preds = torch.max(outputs.data, 1)\n",
    "                loss = criterion(outputs, labels)\n",
    "\n",
    "                if phase == 'train':\n",
    "                    loss.backward()\n",
    "                    optimizer.step()   \n",
    "                running_loss += loss.item()\n",
    "                running_corrects += torch.sum(preds == labels.data)\n",
    "            \n",
    "            epoch_loss = running_loss / dataset_sizes[phase]\n",
    "            epoch_acc = float(running_corrects) / float(dataset_sizes[phase])\n",
    "\n",
    "            print('{} Loss: {:.10f} Acc: {:.10f}'.format(\n",
    "                phase, epoch_loss, epoch_acc))\n",
    "\n",
    "            # deep copy the model\n",
    "            if phase == 'test' and epoch_acc > best_acc:\n",
    "                best_acc = epoch_acc\n",
    "                best_model_wts = model.state_dict()\n",
    "                state = {'model':model.state_dict(),'optim':optimizer.state_dict()}\n",
    "#                 torch.save(state,'mnist0127_test.pth')\n",
    "\n",
    "    time_elapsed = time() - since\n",
    "    print('Training complete in {:.0f}m {:.0f}s'.format(\n",
    "        time_elapsed // 60, time_elapsed % 60))\n",
    "    print('Best test Acc: {:4f}'.format(best_acc))\n",
    "\n",
    "    # load best model weights\n",
    "    model.load_state_dict(best_model_wts)\n",
    "    return model"
   ]
  },
  {
   "cell_type": "code",
   "execution_count": 5,
   "metadata": {},
   "outputs": [],
   "source": [
    "# model = train_model(model, criterion, optimizer,num_epochs=10)"
   ]
  },
  {
   "cell_type": "code",
   "execution_count": 6,
   "metadata": {},
   "outputs": [],
   "source": [
    "data_transforms = transforms.Compose([\n",
    "                       transforms.ToTensor(),\n",
    "                       transforms.Normalize((0.1307,), (0.3081,))\n",
    "                   ])\n",
    "\n",
    "train_path = \"image_data/training/\"\n",
    "test_path = \"image_data/testing/\"\n",
    "\n",
    "train_datasets = datasets.ImageFolder(train_path,data_transforms)\n",
    "train_dataloders = torch.utils.data.DataLoader(train_datasets, batch_size=32,\n",
    "                                             shuffle=True, num_workers=4)\n",
    "test_datasets = datasets.ImageFolder(test_path,data_transforms)\n",
    "test_dataloders = torch.utils.data.DataLoader(test_datasets, batch_size=32,\n",
    "                                             shuffle=True, num_workers=4)\n",
    "\n",
    "causal_dataloders = {'train':train_dataloders,'test':test_dataloders}\n",
    "causal_dataset_sizes = {'train':len(train_datasets),'test':len(test_datasets)}\n",
    "\n"
   ]
  },
  {
   "cell_type": "markdown",
   "metadata": {},
   "source": [
    "## Intervene Model"
   ]
  },
  {
   "cell_type": "code",
   "execution_count": 7,
   "metadata": {},
   "outputs": [
    {
     "data": {
      "text/plain": [
       "Net(\n",
       "  (conv1): Conv2d(1, 32, kernel_size=(3, 3), stride=(1, 1))\n",
       "  (relu1): ReLU()\n",
       "  (maxpool1): MaxPool2d(kernel_size=2, stride=2, padding=0, dilation=1, ceil_mode=False)\n",
       "  (conv2): Conv2d(32, 64, kernel_size=(3, 3), stride=(1, 1))\n",
       "  (relu2): ReLU()\n",
       "  (maxpool2): MaxPool2d(kernel_size=2, stride=2, padding=0, dilation=1, ceil_mode=False)\n",
       "  (fc1): Linear(in_features=1600, out_features=256, bias=True)\n",
       "  (relu3): ReLU()\n",
       "  (fc2): Linear(in_features=256, out_features=10, bias=True)\n",
       ")"
      ]
     },
     "execution_count": 7,
     "metadata": {},
     "output_type": "execute_result"
    }
   ],
   "source": [
    "new_model = Net()\n",
    "checkpoint = torch.load(\"mnist0127_test.pth\")\n",
    "new_model.load_state_dict(checkpoint['model'])\n",
    "new_model.cuda()"
   ]
  },
  {
   "cell_type": "code",
   "execution_count": 8,
   "metadata": {},
   "outputs": [
    {
     "name": "stdout",
     "output_type": "stream",
     "text": [
      "----------------------------------------------------------------\n",
      "        Layer (type)               Output Shape         Param #\n",
      "================================================================\n",
      "            Conv2d-1           [-1, 32, 26, 26]             320\n",
      "              ReLU-2           [-1, 32, 26, 26]               0\n",
      "================================================================\n",
      "Total params: 320\n",
      "Trainable params: 320\n",
      "Non-trainable params: 0\n",
      "----------------------------------------------------------------\n",
      "Input size (MB): 0.00\n",
      "Forward/backward pass size (MB): 0.33\n",
      "Params size (MB): 0.00\n",
      "Estimated Total Size (MB): 0.33\n",
      "----------------------------------------------------------------\n"
     ]
    }
   ],
   "source": [
    "f_mod = list(new_model.children())[:2]\n",
    "f_mod = nn.Sequential(*f_mod)\n",
    "f_mod.cuda()\n",
    "summary(f_mod,(1,28,28))"
   ]
  },
  {
   "cell_type": "code",
   "execution_count": 9,
   "metadata": {},
   "outputs": [],
   "source": [
    "r_mod = list(new_model.children())[2:6]\n",
    "r_mod = nn.Sequential(*r_mod)\n",
    "cls_mod = list(new_model.children())[6:len(list(new_model.children()))]\n",
    "cls_mod = nn.Sequential(*cls_mod)\n",
    "for param in r_mod.parameters():\n",
    "    param.requires_grad = False\n",
    "for param in cls_mod.parameters():\n",
    "    param.requires_grad = False"
   ]
  },
  {
   "cell_type": "code",
   "execution_count": 10,
   "metadata": {},
   "outputs": [],
   "source": [
    "\n",
    "class vgg_auto(nn.Module):\n",
    "    def __init__(self):\n",
    "        super(vgg_auto, self).__init__()\n",
    "        self.f_mod = f_mod\n",
    "        self.r_mod = r_mod\n",
    "        self.cls_mod = cls_mod\n",
    "        self.ae1 = nn.Conv2d(in_channels=32,out_channels=16,kernel_size=(1,1))\n",
    "        self.ae2 = nn.Conv2d(in_channels=16,out_channels=64,kernel_size=(1,1))\n",
    "        self.ae3 = nn.Conv2d(in_channels=64,out_channels=32,kernel_size=(1,1))\n",
    "        self.zero_out = 5\n",
    "#         self.prob_zero = np.random.uniform(0,1,1)\n",
    "        \n",
    "    def forward(self, x):\n",
    "        x = self.f_mod(x)\n",
    "        x = self.ae1(x)\n",
    "        x[:,self.zero_out,:,:] = 0\n",
    "        x = self.ae2(x)\n",
    "        x = self.ae3(x)\n",
    "        x = self.r_mod(x)\n",
    "        x = x.view(-1,64*5*5)\n",
    "        x = self.cls_mod(x)\n",
    "        return x"
   ]
  },
  {
   "cell_type": "code",
   "execution_count": 11,
   "metadata": {},
   "outputs": [],
   "source": [
    "use_gpu = True\n",
    "causal_model = vgg_auto()\n",
    "causal_model.cuda()\n",
    "criterion_kl = nn.KLDivLoss()\n",
    "optimizer_c = optim.Adam(filter(lambda p: p.requires_grad,causal_model.parameters()), lr=0.0001)"
   ]
  },
  {
   "cell_type": "code",
   "execution_count": 12,
   "metadata": {},
   "outputs": [],
   "source": [
    "def train_causal_model(model, c_model, criterion, optimizer, num_epochs=10):\n",
    "    since = time()\n",
    "    best_model_wts = model.state_dict()\n",
    "    for epoch in range(num_epochs):\n",
    "        print('Epoch {}/{}'.format(epoch, num_epochs - 1))\n",
    "        print('-' * 10)\n",
    "        for phase in ['train', 'test']:\n",
    "            if phase == 'train':\n",
    "                model.train(True)  # Set model to training mode\n",
    "            else:\n",
    "                model.train(False)  # Set model to evaluate mode\n",
    "\n",
    "            running_loss = 0.0\n",
    "            test_loss = 10\n",
    "\n",
    "            for data in causal_dataloders[phase]:\n",
    "                inputs,labels = data\n",
    "                inputs = inputs[:,0,:,:].unsqueeze(1)\n",
    "                if use_gpu:\n",
    "                    inputs = Variable(inputs.cuda())\n",
    "                else:\n",
    "                    inputs = Variable(inputs)\n",
    "                optimizer.zero_grad()\n",
    "                outputs = c_model(inputs)\n",
    "                outputs = F.log_softmax(outputs,-1)\n",
    "                _, preds = torch.max(outputs.data, 1)\n",
    "                \n",
    "                score = model(inputs)\n",
    "                score = F.softmax(score,-1)\n",
    "                score = score.detach()\n",
    "                \n",
    "                loss = criterion(outputs, score)\n",
    "\n",
    "                if phase == 'train':\n",
    "                    loss.backward()\n",
    "                    optimizer.step()\n",
    "                \n",
    "                running_loss += loss.item()\n",
    "            \n",
    "            epoch_loss = running_loss / causal_dataset_sizes[phase]\n",
    "\n",
    "            print('{} Loss: {:.10f} '.format(phase, epoch_loss))\n",
    "\n",
    "            # deep copy the model\n",
    "            if phase == 'test' and test_loss > epoch_loss:\n",
    "                test_loss = epoch_loss\n",
    "                best_model_wts = model.state_dict()\n",
    "                state = {'model':model.state_dict(),'optim':optimizer.state_dict()}\n",
    "                torch.save(state,'causal_mnist0127.pth')\n",
    "\n",
    "    time_elapsed = time() - since\n",
    "    print('Training complete in {:.0f}m {:.0f}s'.format(\n",
    "        time_elapsed // 60, time_elapsed % 60))\n",
    "\n",
    "    # load best model weights\n",
    "    model.load_state_dict(best_model_wts)\n",
    "    return model"
   ]
  },
  {
   "cell_type": "code",
   "execution_count": 13,
   "metadata": {},
   "outputs": [
    {
     "name": "stdout",
     "output_type": "stream",
     "text": [
      "Epoch 0/9\n",
      "----------\n",
      "train Loss: 0.0003425949 \n",
      "test Loss: 0.0000304242 \n",
      "Epoch 1/9\n",
      "----------\n",
      "train Loss: 0.0000173706 \n",
      "test Loss: 0.0000140618 \n",
      "Epoch 2/9\n",
      "----------\n",
      "train Loss: 0.0000079639 \n",
      "test Loss: 0.0000129163 \n",
      "Epoch 3/9\n",
      "----------\n",
      "train Loss: 0.0000053032 \n",
      "test Loss: 0.0000076108 \n",
      "Epoch 4/9\n",
      "----------\n",
      "train Loss: 0.0000041351 \n",
      "test Loss: 0.0000063364 \n",
      "Epoch 5/9\n",
      "----------\n",
      "train Loss: 0.0000035303 \n",
      "test Loss: 0.0000064362 \n",
      "Epoch 6/9\n",
      "----------\n",
      "train Loss: 0.0000028948 \n",
      "test Loss: 0.0000058344 \n",
      "Epoch 7/9\n",
      "----------\n",
      "train Loss: 0.0000026937 \n",
      "test Loss: 0.0000051751 \n",
      "Epoch 8/9\n",
      "----------\n",
      "train Loss: 0.0000023610 \n",
      "test Loss: 0.0000048938 \n",
      "Epoch 9/9\n",
      "----------\n",
      "train Loss: 0.0000022458 \n",
      "test Loss: 0.0000052664 \n",
      "Training complete in 2m 20s\n"
     ]
    },
    {
     "data": {
      "text/plain": [
       "Net(\n",
       "  (conv1): Conv2d(1, 32, kernel_size=(3, 3), stride=(1, 1))\n",
       "  (relu1): ReLU()\n",
       "  (maxpool1): MaxPool2d(kernel_size=2, stride=2, padding=0, dilation=1, ceil_mode=False)\n",
       "  (conv2): Conv2d(32, 64, kernel_size=(3, 3), stride=(1, 1))\n",
       "  (relu2): ReLU()\n",
       "  (maxpool2): MaxPool2d(kernel_size=2, stride=2, padding=0, dilation=1, ceil_mode=False)\n",
       "  (fc1): Linear(in_features=1600, out_features=256, bias=True)\n",
       "  (relu3): ReLU()\n",
       "  (fc2): Linear(in_features=256, out_features=10, bias=True)\n",
       ")"
      ]
     },
     "execution_count": 13,
     "metadata": {},
     "output_type": "execute_result"
    }
   ],
   "source": [
    "train_causal_model(new_model,causal_model,criterion_kl,optimizer_c,num_epochs=10)"
   ]
  },
  {
   "cell_type": "markdown",
   "metadata": {},
   "source": [
    "## Load Test Image"
   ]
  },
  {
   "cell_type": "code",
   "execution_count": 24,
   "metadata": {},
   "outputs": [
    {
     "name": "stdout",
     "output_type": "stream",
     "text": [
      "tensor([-33.7162, -15.0072, -15.1428,  39.4012, -23.2148,  -2.2375,\n",
      "        -36.6115,  -6.7545,   0.3046,  -6.8058], device='cuda:2')\n"
     ]
    }
   ],
   "source": [
    "from PIL import Image\n",
    "test_image = \"image_data/sub50_test/3/10728.png\"\n",
    "new_model.eval()\n",
    "\n",
    "img = Image.open(test_image)\n",
    "trans = transforms.Compose([\n",
    "        transforms.ToTensor(),\n",
    "        transforms.Normalize((0.1307,), (0.3081,))])\n",
    "img = trans(img)\n",
    "img = img.unsqueeze_(0)\n",
    "img = img.cuda()\n",
    "\n",
    "score = new_model(img).view(-1)\n",
    "print(score)"
   ]
  },
  {
   "cell_type": "code",
   "execution_count": 25,
   "metadata": {},
   "outputs": [
    {
     "name": "stdout",
     "output_type": "stream",
     "text": [
      "tensor([-30.6017, -13.7269, -13.7403,  36.8555, -21.8020,  -2.3955,\n",
      "        -34.3664,  -6.4334,   0.2144,  -6.8351], device='cuda:2')\n"
     ]
    }
   ],
   "source": [
    "causal_score = causal_model(img).view(-1)\n",
    "print(causal_score)\n",
    "\n",
    "causal_effect = causal_score-score\n",
    "prob = F.softmax(score,-1)\n",
    "\n",
    "ece = torch.dot(causal_effect,prob)"
   ]
  },
  {
   "cell_type": "code",
   "execution_count": 26,
   "metadata": {},
   "outputs": [
    {
     "data": {
      "text/plain": [
       "tensor(-2.5457, device='cuda:2')"
      ]
     },
     "execution_count": 26,
     "metadata": {},
     "output_type": "execute_result"
    }
   ],
   "source": [
    "ece"
   ]
  },
  {
   "cell_type": "code",
   "execution_count": null,
   "metadata": {},
   "outputs": [],
   "source": []
  }
 ],
 "metadata": {
  "kernelspec": {
   "display_name": "Python 3",
   "language": "python",
   "name": "python3"
  },
  "language_info": {
   "codemirror_mode": {
    "name": "ipython",
    "version": 3
   },
   "file_extension": ".py",
   "mimetype": "text/x-python",
   "name": "python",
   "nbconvert_exporter": "python",
   "pygments_lexer": "ipython3",
   "version": "3.6.6"
  }
 },
 "nbformat": 4,
 "nbformat_minor": 2
}
